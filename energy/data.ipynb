{
 "cells": [
  {
   "metadata": {
    "ExecuteTime": {
     "end_time": "2024-09-06T11:37:51.649118Z",
     "start_time": "2024-09-06T11:37:46.013916Z"
    }
   },
   "cell_type": "code",
   "source": [
    "import pandas as pd\n",
    "import torch\n",
    "from pandas import DataFrame\n",
    "\n",
    "raw_data = pd.read_excel('../data/final.xlsx')\n",
    "solar_data = pd.read_excel('../data/solar.xlsx')\n",
    "water_data = pd.read_excel('../data/water.xlsx')\n",
    "wind_data = pd.read_excel('../data/wind.xlsx')"
   ],
   "id": "f855fe24a88e264e",
   "outputs": [],
   "execution_count": 5
  },
  {
   "metadata": {
    "ExecuteTime": {
     "end_time": "2024-09-06T11:37:51.671947Z",
     "start_time": "2024-09-06T11:37:51.654327Z"
    }
   },
   "cell_type": "code",
   "source": [
    "def reduce_solar(province:str):\n",
    "    province_df = raw_data[raw_data['name']==province]\n",
    "    solar_after_data = solar_data[solar_data['province']==province]\n",
    "    solar_after_data['Year'] = solar_after_data['year'] % 100\n",
    "    solar_after_data['Month'] = solar_after_data['month']\n",
    "    solar_train = pd.merge(province_df,solar_after_data,how=\"right\",on=['Year','Month'])\n",
    "    solar_train = solar_train[['100 metre U wind component(m/s)',\n",
    "                               '100 metre V wind component(m/s)', '2 metre dewpoint temperature(K)',\n",
    "                               '2 metre temperature(K)', 'Surface runoff(m)', 'Runoff(m)',\n",
    "                               'Surface net short-wave (solar) radiation(J/m²)', '乘以面积(J)',\n",
    "                               'Surface short-wave (solar) radiation downward clear-sky(J/m²)',\n",
    "                               '乘以面积(J).1', 'Surface short-wave (solar) radiation downwards(J/m²)',\n",
    "                               '乘以面积(J).2','日发电系数']]\n",
    "    \n",
    "    return solar_train\n",
    "\n",
    "df = reduce_solar(\"上海\")\n",
    "df"
   ],
   "id": "8601a50ed8aa610c",
   "outputs": [
    {
     "name": "stderr",
     "output_type": "stream",
     "text": [
      "/var/folders/p8/ztd8kwkj247249w0h6_9g2rc0000gn/T/ipykernel_78018/471711592.py:4: SettingWithCopyWarning: \n",
      "A value is trying to be set on a copy of a slice from a DataFrame.\n",
      "Try using .loc[row_indexer,col_indexer] = value instead\n",
      "\n",
      "See the caveats in the documentation: https://pandas.pydata.org/pandas-docs/stable/user_guide/indexing.html#returning-a-view-versus-a-copy\n",
      "  solar_after_data['Year'] = solar_after_data['year'] % 100\n",
      "/var/folders/p8/ztd8kwkj247249w0h6_9g2rc0000gn/T/ipykernel_78018/471711592.py:5: SettingWithCopyWarning: \n",
      "A value is trying to be set on a copy of a slice from a DataFrame.\n",
      "Try using .loc[row_indexer,col_indexer] = value instead\n",
      "\n",
      "See the caveats in the documentation: https://pandas.pydata.org/pandas-docs/stable/user_guide/indexing.html#returning-a-view-versus-a-copy\n",
      "  solar_after_data['Month'] = solar_after_data['month']\n"
     ]
    },
    {
     "data": {
      "text/plain": [
       "      100 metre U wind component(m/s)  100 metre V wind component(m/s)  \\\n",
       "0                            0.849450                         2.094218   \n",
       "1                           -0.683009                         9.178101   \n",
       "2                            4.168527                        -5.582550   \n",
       "3                           -4.113223                         0.576815   \n",
       "4                           -1.479465                         3.585007   \n",
       "...                               ...                              ...   \n",
       "1511                         1.195356                         0.991302   \n",
       "1512                         6.363928                        -1.766412   \n",
       "1513                        -1.403384                         0.602293   \n",
       "1514                         1.089871                        -4.249984   \n",
       "1515                         2.677802                        -6.793048   \n",
       "\n",
       "      2 metre dewpoint temperature(K)  2 metre temperature(K)  \\\n",
       "0                          272.524957              276.618472   \n",
       "1                          281.331841              284.559003   \n",
       "2                          279.025636              281.462258   \n",
       "3                          275.930926              281.135115   \n",
       "4                          280.103396              282.011059   \n",
       "...                               ...                     ...   \n",
       "1511                       282.212186              286.703971   \n",
       "1512                       280.033994              285.951530   \n",
       "1513                       279.178773              285.422762   \n",
       "1514                       281.214023              287.518909   \n",
       "1515                       272.260165              280.878416   \n",
       "\n",
       "      Surface runoff(m)  Runoff(m)  \\\n",
       "0          0.000000e+00   0.000268   \n",
       "1          6.508827e-06   0.000275   \n",
       "2          1.192093e-06   0.000269   \n",
       "3          1.057386e-05   0.000278   \n",
       "4          1.764297e-06   0.000268   \n",
       "...                 ...        ...   \n",
       "1511       7.152557e-08   0.000407   \n",
       "1512       0.000000e+00   0.000402   \n",
       "1513       0.000000e+00   0.000397   \n",
       "1514       0.000000e+00   0.000392   \n",
       "1515       0.000000e+00   0.000387   \n",
       "\n",
       "      Surface net short-wave (solar) radiation(J/m²)       乘以面积(J)  \\\n",
       "0                                         10250758.4  6.499493e+16   \n",
       "1                                          5823257.6  3.692236e+16   \n",
       "2                                         10950476.8  6.943150e+16   \n",
       "3                                          7991148.8  5.066788e+16   \n",
       "4                                          9957862.4  6.313783e+16   \n",
       "...                                              ...           ...   \n",
       "1511                                      10299820.8  6.530601e+16   \n",
       "1512                                      11522406.4  7.305782e+16   \n",
       "1513                                      11242624.0  7.128386e+16   \n",
       "1514                                      10294067.2  6.526953e+16   \n",
       "1515                                      11296230.4  7.162375e+16   \n",
       "\n",
       "      Surface short-wave (solar) radiation downward clear-sky(J/m²)  \\\n",
       "0                                            14935942.4               \n",
       "1                                            14162118.4               \n",
       "2                                            15387795.2               \n",
       "3                                            15045427.2               \n",
       "4                                            15350227.2               \n",
       "...                                                 ...               \n",
       "1511                                         12924486.4               \n",
       "1512                                         13133056.0               \n",
       "1513                                         12800256.0               \n",
       "1514                                         12725222.4               \n",
       "1515                                         13260755.2               \n",
       "\n",
       "         乘以面积(J).1  Surface short-wave (solar) radiation downwards(J/m²)  \\\n",
       "0     9.470134e+16                                         11523232.0      \n",
       "1     8.979491e+16                                          6545216.0      \n",
       "2     9.756632e+16                                         12311558.4      \n",
       "3     9.539553e+16                                          9013043.2      \n",
       "4     9.732812e+16                                         11176268.8      \n",
       "...            ...                                                ...      \n",
       "1511  8.194771e+16                                         11608544.0      \n",
       "1512  8.327014e+16                                         13009683.2      \n",
       "1513  8.116002e+16                                         12682188.8      \n",
       "1514  8.068427e+16                                         11611571.2      \n",
       "1515  8.407982e+16                                         12755308.8      \n",
       "\n",
       "         乘以面积(J).2     日发电系数  \n",
       "0     7.306305e+16  1.084746  \n",
       "1     4.149994e+16  1.084746  \n",
       "2     7.806144e+16  1.084746  \n",
       "3     5.714720e+16  1.084746  \n",
       "4     7.086313e+16  1.084746  \n",
       "...            ...       ...  \n",
       "1511  7.360397e+16  3.733489  \n",
       "1512  8.248790e+16  3.733489  \n",
       "1513  8.041142e+16  3.733489  \n",
       "1514  7.362317e+16  3.733489  \n",
       "1515  8.087504e+16  3.733489  \n",
       "\n",
       "[1516 rows x 13 columns]"
      ],
      "text/html": [
       "<div>\n",
       "<style scoped>\n",
       "    .dataframe tbody tr th:only-of-type {\n",
       "        vertical-align: middle;\n",
       "    }\n",
       "\n",
       "    .dataframe tbody tr th {\n",
       "        vertical-align: top;\n",
       "    }\n",
       "\n",
       "    .dataframe thead th {\n",
       "        text-align: right;\n",
       "    }\n",
       "</style>\n",
       "<table border=\"1\" class=\"dataframe\">\n",
       "  <thead>\n",
       "    <tr style=\"text-align: right;\">\n",
       "      <th></th>\n",
       "      <th>100 metre U wind component(m/s)</th>\n",
       "      <th>100 metre V wind component(m/s)</th>\n",
       "      <th>2 metre dewpoint temperature(K)</th>\n",
       "      <th>2 metre temperature(K)</th>\n",
       "      <th>Surface runoff(m)</th>\n",
       "      <th>Runoff(m)</th>\n",
       "      <th>Surface net short-wave (solar) radiation(J/m²)</th>\n",
       "      <th>乘以面积(J)</th>\n",
       "      <th>Surface short-wave (solar) radiation downward clear-sky(J/m²)</th>\n",
       "      <th>乘以面积(J).1</th>\n",
       "      <th>Surface short-wave (solar) radiation downwards(J/m²)</th>\n",
       "      <th>乘以面积(J).2</th>\n",
       "      <th>日发电系数</th>\n",
       "    </tr>\n",
       "  </thead>\n",
       "  <tbody>\n",
       "    <tr>\n",
       "      <th>0</th>\n",
       "      <td>0.849450</td>\n",
       "      <td>2.094218</td>\n",
       "      <td>272.524957</td>\n",
       "      <td>276.618472</td>\n",
       "      <td>0.000000e+00</td>\n",
       "      <td>0.000268</td>\n",
       "      <td>10250758.4</td>\n",
       "      <td>6.499493e+16</td>\n",
       "      <td>14935942.4</td>\n",
       "      <td>9.470134e+16</td>\n",
       "      <td>11523232.0</td>\n",
       "      <td>7.306305e+16</td>\n",
       "      <td>1.084746</td>\n",
       "    </tr>\n",
       "    <tr>\n",
       "      <th>1</th>\n",
       "      <td>-0.683009</td>\n",
       "      <td>9.178101</td>\n",
       "      <td>281.331841</td>\n",
       "      <td>284.559003</td>\n",
       "      <td>6.508827e-06</td>\n",
       "      <td>0.000275</td>\n",
       "      <td>5823257.6</td>\n",
       "      <td>3.692236e+16</td>\n",
       "      <td>14162118.4</td>\n",
       "      <td>8.979491e+16</td>\n",
       "      <td>6545216.0</td>\n",
       "      <td>4.149994e+16</td>\n",
       "      <td>1.084746</td>\n",
       "    </tr>\n",
       "    <tr>\n",
       "      <th>2</th>\n",
       "      <td>4.168527</td>\n",
       "      <td>-5.582550</td>\n",
       "      <td>279.025636</td>\n",
       "      <td>281.462258</td>\n",
       "      <td>1.192093e-06</td>\n",
       "      <td>0.000269</td>\n",
       "      <td>10950476.8</td>\n",
       "      <td>6.943150e+16</td>\n",
       "      <td>15387795.2</td>\n",
       "      <td>9.756632e+16</td>\n",
       "      <td>12311558.4</td>\n",
       "      <td>7.806144e+16</td>\n",
       "      <td>1.084746</td>\n",
       "    </tr>\n",
       "    <tr>\n",
       "      <th>3</th>\n",
       "      <td>-4.113223</td>\n",
       "      <td>0.576815</td>\n",
       "      <td>275.930926</td>\n",
       "      <td>281.135115</td>\n",
       "      <td>1.057386e-05</td>\n",
       "      <td>0.000278</td>\n",
       "      <td>7991148.8</td>\n",
       "      <td>5.066788e+16</td>\n",
       "      <td>15045427.2</td>\n",
       "      <td>9.539553e+16</td>\n",
       "      <td>9013043.2</td>\n",
       "      <td>5.714720e+16</td>\n",
       "      <td>1.084746</td>\n",
       "    </tr>\n",
       "    <tr>\n",
       "      <th>4</th>\n",
       "      <td>-1.479465</td>\n",
       "      <td>3.585007</td>\n",
       "      <td>280.103396</td>\n",
       "      <td>282.011059</td>\n",
       "      <td>1.764297e-06</td>\n",
       "      <td>0.000268</td>\n",
       "      <td>9957862.4</td>\n",
       "      <td>6.313783e+16</td>\n",
       "      <td>15350227.2</td>\n",
       "      <td>9.732812e+16</td>\n",
       "      <td>11176268.8</td>\n",
       "      <td>7.086313e+16</td>\n",
       "      <td>1.084746</td>\n",
       "    </tr>\n",
       "    <tr>\n",
       "      <th>...</th>\n",
       "      <td>...</td>\n",
       "      <td>...</td>\n",
       "      <td>...</td>\n",
       "      <td>...</td>\n",
       "      <td>...</td>\n",
       "      <td>...</td>\n",
       "      <td>...</td>\n",
       "      <td>...</td>\n",
       "      <td>...</td>\n",
       "      <td>...</td>\n",
       "      <td>...</td>\n",
       "      <td>...</td>\n",
       "      <td>...</td>\n",
       "    </tr>\n",
       "    <tr>\n",
       "      <th>1511</th>\n",
       "      <td>1.195356</td>\n",
       "      <td>0.991302</td>\n",
       "      <td>282.212186</td>\n",
       "      <td>286.703971</td>\n",
       "      <td>7.152557e-08</td>\n",
       "      <td>0.000407</td>\n",
       "      <td>10299820.8</td>\n",
       "      <td>6.530601e+16</td>\n",
       "      <td>12924486.4</td>\n",
       "      <td>8.194771e+16</td>\n",
       "      <td>11608544.0</td>\n",
       "      <td>7.360397e+16</td>\n",
       "      <td>3.733489</td>\n",
       "    </tr>\n",
       "    <tr>\n",
       "      <th>1512</th>\n",
       "      <td>6.363928</td>\n",
       "      <td>-1.766412</td>\n",
       "      <td>280.033994</td>\n",
       "      <td>285.951530</td>\n",
       "      <td>0.000000e+00</td>\n",
       "      <td>0.000402</td>\n",
       "      <td>11522406.4</td>\n",
       "      <td>7.305782e+16</td>\n",
       "      <td>13133056.0</td>\n",
       "      <td>8.327014e+16</td>\n",
       "      <td>13009683.2</td>\n",
       "      <td>8.248790e+16</td>\n",
       "      <td>3.733489</td>\n",
       "    </tr>\n",
       "    <tr>\n",
       "      <th>1513</th>\n",
       "      <td>-1.403384</td>\n",
       "      <td>0.602293</td>\n",
       "      <td>279.178773</td>\n",
       "      <td>285.422762</td>\n",
       "      <td>0.000000e+00</td>\n",
       "      <td>0.000397</td>\n",
       "      <td>11242624.0</td>\n",
       "      <td>7.128386e+16</td>\n",
       "      <td>12800256.0</td>\n",
       "      <td>8.116002e+16</td>\n",
       "      <td>12682188.8</td>\n",
       "      <td>8.041142e+16</td>\n",
       "      <td>3.733489</td>\n",
       "    </tr>\n",
       "    <tr>\n",
       "      <th>1514</th>\n",
       "      <td>1.089871</td>\n",
       "      <td>-4.249984</td>\n",
       "      <td>281.214023</td>\n",
       "      <td>287.518909</td>\n",
       "      <td>0.000000e+00</td>\n",
       "      <td>0.000392</td>\n",
       "      <td>10294067.2</td>\n",
       "      <td>6.526953e+16</td>\n",
       "      <td>12725222.4</td>\n",
       "      <td>8.068427e+16</td>\n",
       "      <td>11611571.2</td>\n",
       "      <td>7.362317e+16</td>\n",
       "      <td>3.733489</td>\n",
       "    </tr>\n",
       "    <tr>\n",
       "      <th>1515</th>\n",
       "      <td>2.677802</td>\n",
       "      <td>-6.793048</td>\n",
       "      <td>272.260165</td>\n",
       "      <td>280.878416</td>\n",
       "      <td>0.000000e+00</td>\n",
       "      <td>0.000387</td>\n",
       "      <td>11296230.4</td>\n",
       "      <td>7.162375e+16</td>\n",
       "      <td>13260755.2</td>\n",
       "      <td>8.407982e+16</td>\n",
       "      <td>12755308.8</td>\n",
       "      <td>8.087504e+16</td>\n",
       "      <td>3.733489</td>\n",
       "    </tr>\n",
       "  </tbody>\n",
       "</table>\n",
       "<p>1516 rows × 13 columns</p>\n",
       "</div>"
      ]
     },
     "execution_count": 6,
     "metadata": {},
     "output_type": "execute_result"
    }
   ],
   "execution_count": 6
  },
  {
   "metadata": {
    "ExecuteTime": {
     "end_time": "2024-09-06T11:37:51.755621Z",
     "start_time": "2024-09-06T11:37:51.752896Z"
    }
   },
   "cell_type": "code",
   "source": [
    "continuous_cols = ['100 metre U wind component(m/s)',\n",
    "                   '100 metre V wind component(m/s)', '2 metre dewpoint temperature(K)',\n",
    "                   '2 metre temperature(K)', 'Surface runoff(m)', 'Runoff(m)',\n",
    "                   'Surface net short-wave (solar) radiation(J/m²)', '乘以面积(J)',\n",
    "                   'Surface short-wave (solar) radiation downward clear-sky(J/m²)',\n",
    "                   '乘以面积(J).1', 'Surface short-wave (solar) radiation downwards(J/m²)',\n",
    "                   '乘以面积(J).2'] "
   ],
   "id": "cc0ccded939f210d",
   "outputs": [],
   "execution_count": 7
  },
  {
   "metadata": {
    "ExecuteTime": {
     "end_time": "2024-09-06T11:37:51.793622Z",
     "start_time": "2024-09-06T11:37:51.789430Z"
    }
   },
   "cell_type": "code",
   "source": [
    "import torch\n",
    "import numpy as np\n",
    "\n",
    "numpy_array = df.to_numpy()\n",
    "train_data = torch.tensor(numpy_array)\n",
    "train_data"
   ],
   "id": "d7ab6d0803271b76",
   "outputs": [
    {
     "data": {
      "text/plain": [
       "tensor([[ 8.4945e-01,  2.0942e+00,  2.7252e+02,  ...,  1.1523e+07,\n",
       "          7.3063e+16,  1.0847e+00],\n",
       "        [-6.8301e-01,  9.1781e+00,  2.8133e+02,  ...,  6.5452e+06,\n",
       "          4.1500e+16,  1.0847e+00],\n",
       "        [ 4.1685e+00, -5.5826e+00,  2.7903e+02,  ...,  1.2312e+07,\n",
       "          7.8061e+16,  1.0847e+00],\n",
       "        ...,\n",
       "        [-1.4034e+00,  6.0229e-01,  2.7918e+02,  ...,  1.2682e+07,\n",
       "          8.0411e+16,  3.7335e+00],\n",
       "        [ 1.0899e+00, -4.2500e+00,  2.8121e+02,  ...,  1.1612e+07,\n",
       "          7.3623e+16,  3.7335e+00],\n",
       "        [ 2.6778e+00, -6.7930e+00,  2.7226e+02,  ...,  1.2755e+07,\n",
       "          8.0875e+16,  3.7335e+00]], dtype=torch.float64)"
      ]
     },
     "execution_count": 8,
     "metadata": {},
     "output_type": "execute_result"
    }
   ],
   "execution_count": 8
  },
  {
   "metadata": {
    "ExecuteTime": {
     "end_time": "2024-09-06T10:54:52.247626Z",
     "start_time": "2024-09-06T10:54:52.242003Z"
    }
   },
   "cell_type": "code",
   "source": "train_data.shape",
   "id": "146c9c1e860cfad3",
   "outputs": [
    {
     "data": {
      "text/plain": [
       "torch.Size([1516, 13])"
      ]
     },
     "execution_count": 66,
     "metadata": {},
     "output_type": "execute_result"
    }
   ],
   "execution_count": 66
  },
  {
   "metadata": {
    "ExecuteTime": {
     "end_time": "2024-09-06T11:32:41.545878Z",
     "start_time": "2024-09-06T11:32:41.542452Z"
    }
   },
   "cell_type": "code",
   "source": "train_data.shape",
   "id": "f905d2b9b7f31183",
   "outputs": [
    {
     "data": {
      "text/plain": [
       "torch.Size([1516, 13])"
      ]
     },
     "execution_count": 77,
     "metadata": {},
     "output_type": "execute_result"
    }
   ],
   "execution_count": 77
  },
  {
   "metadata": {},
   "cell_type": "markdown",
   "source": "# 下面是 dataset 类的测试",
   "id": "e8ff8de9463e8367"
  },
  {
   "metadata": {
    "ExecuteTime": {
     "end_time": "2024-09-06T11:36:41.715225Z",
     "start_time": "2024-09-06T11:36:35.205512Z"
    }
   },
   "cell_type": "code",
   "source": [
    "from Dataset import MyDataset\n",
    "\n",
    "dataset = MyDataset(\"上海\")"
   ],
   "id": "f5ddf88d4a8eaa0c",
   "outputs": [
    {
     "name": "stderr",
     "output_type": "stream",
     "text": [
      "/Users/wxk/DataspellProjects/ml/energy/Dataset.py:18: SettingWithCopyWarning: \n",
      "A value is trying to be set on a copy of a slice from a DataFrame.\n",
      "Try using .loc[row_indexer,col_indexer] = value instead\n",
      "\n",
      "See the caveats in the documentation: https://pandas.pydata.org/pandas-docs/stable/user_guide/indexing.html#returning-a-view-versus-a-copy\n",
      "  solar_after_data['Year'] = solar_after_data['year'] % 100\n",
      "/Users/wxk/DataspellProjects/ml/energy/Dataset.py:19: SettingWithCopyWarning: \n",
      "A value is trying to be set on a copy of a slice from a DataFrame.\n",
      "Try using .loc[row_indexer,col_indexer] = value instead\n",
      "\n",
      "See the caveats in the documentation: https://pandas.pydata.org/pandas-docs/stable/user_guide/indexing.html#returning-a-view-versus-a-copy\n",
      "  solar_after_data['Month'] = solar_after_data['month']\n"
     ]
    }
   ],
   "execution_count": 1
  },
  {
   "metadata": {
    "ExecuteTime": {
     "end_time": "2024-09-06T12:54:14.857339Z",
     "start_time": "2024-09-06T12:54:14.847709Z"
    }
   },
   "cell_type": "code",
   "source": [
    "train,traget = dataset[1]\n",
    "len(train)"
   ],
   "id": "ec867a8326e7cf07",
   "outputs": [
    {
     "data": {
      "text/plain": [
       "12"
      ]
     },
     "execution_count": 10,
     "metadata": {},
     "output_type": "execute_result"
    }
   ],
   "execution_count": 10
  },
  {
   "metadata": {
    "ExecuteTime": {
     "end_time": "2024-09-06T11:38:22.616497Z",
     "start_time": "2024-09-06T11:38:22.612183Z"
    }
   },
   "cell_type": "code",
   "source": "train_data[1,:]",
   "id": "912b0a992edbd428",
   "outputs": [
    {
     "data": {
      "text/plain": [
       "tensor([-6.8301e-01,  9.1781e+00,  2.8133e+02,  2.8456e+02,  6.5088e-06,\n",
       "         2.7523e-04,  5.8233e+06,  3.6922e+16,  1.4162e+07,  8.9795e+16,\n",
       "         6.5452e+06,  4.1500e+16,  1.0847e+00], dtype=torch.float64)"
      ]
     },
     "execution_count": 9,
     "metadata": {},
     "output_type": "execute_result"
    }
   ],
   "execution_count": 9
  },
  {
   "metadata": {},
   "cell_type": "markdown",
   "source": "# 下面是多层感知机的实现",
   "id": "60d8d21466b98698"
  },
  {
   "metadata": {},
   "cell_type": "code",
   "outputs": [],
   "execution_count": null,
   "source": "",
   "id": "12b1e470cce4f75d"
  },
  {
   "metadata": {
    "ExecuteTime": {
     "end_time": "2024-09-07T08:59:59.236535Z",
     "start_time": "2024-09-07T08:59:52.095233Z"
    }
   },
   "cell_type": "code",
   "source": [
    "import torch.optim\n",
    "from Dataset import MyDataset\n",
    "from torch.utils.data import DataLoader\n",
    "from Model import MLP\n",
    "from torch.nn import MSELoss\n",
    "\n",
    "dataset = MyDataset(\"上海\")\n",
    "dataloader = DataLoader(dataset,batch_size=1)"
   ],
   "id": "8b94b0340403c229",
   "outputs": [
    {
     "name": "stderr",
     "output_type": "stream",
     "text": [
      "/Users/wxk/DataspellProjects/ml/energy/Dataset.py:23: SettingWithCopyWarning: \n",
      "A value is trying to be set on a copy of a slice from a DataFrame.\n",
      "Try using .loc[row_indexer,col_indexer] = value instead\n",
      "\n",
      "See the caveats in the documentation: https://pandas.pydata.org/pandas-docs/stable/user_guide/indexing.html#returning-a-view-versus-a-copy\n",
      "  solar_after_data['Year'] = solar_after_data['year'] % 100\n",
      "/Users/wxk/DataspellProjects/ml/energy/Dataset.py:24: SettingWithCopyWarning: \n",
      "A value is trying to be set on a copy of a slice from a DataFrame.\n",
      "Try using .loc[row_indexer,col_indexer] = value instead\n",
      "\n",
      "See the caveats in the documentation: https://pandas.pydata.org/pandas-docs/stable/user_guide/indexing.html#returning-a-view-versus-a-copy\n",
      "  solar_after_data['Month'] = solar_after_data['month']\n"
     ]
    }
   ],
   "execution_count": 1
  },
  {
   "metadata": {
    "ExecuteTime": {
     "end_time": "2024-09-07T08:59:59.312878Z",
     "start_time": "2024-09-07T08:59:59.306370Z"
    }
   },
   "cell_type": "code",
   "source": "dataset[1]",
   "id": "5ca26602ca917360",
   "outputs": [
    {
     "data": {
      "text/plain": [
       "(tensor([-6.8301e-01,  9.1781e+00,  2.8133e+02,  2.8456e+02,  6.5088e-06,\n",
       "          2.7523e-04,  5.8233e+06,  3.6922e+16,  1.4162e+07,  8.9795e+16,\n",
       "          6.5452e+06,  4.1500e+16], dtype=torch.float64),\n",
       " tensor(1.0847, dtype=torch.float64))"
      ]
     },
     "execution_count": 2,
     "metadata": {},
     "output_type": "execute_result"
    }
   ],
   "execution_count": 2
  },
  {
   "metadata": {},
   "cell_type": "code",
   "outputs": [],
   "execution_count": null,
   "source": "",
   "id": "69feea530f73d122"
  }
 ],
 "metadata": {
  "kernelspec": {
   "display_name": "Python 3",
   "language": "python",
   "name": "python3"
  },
  "language_info": {
   "codemirror_mode": {
    "name": "ipython",
    "version": 2
   },
   "file_extension": ".py",
   "mimetype": "text/x-python",
   "name": "python",
   "nbconvert_exporter": "python",
   "pygments_lexer": "ipython2",
   "version": "2.7.6"
  }
 },
 "nbformat": 4,
 "nbformat_minor": 5
}
