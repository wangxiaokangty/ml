{
 "cells": [
  {
   "metadata": {
    "ExecuteTime": {
     "end_time": "2024-09-06T10:42:24.148001Z",
     "start_time": "2024-09-06T10:42:20.964105Z"
    }
   },
   "cell_type": "code",
   "source": [
    "from pytorch_tabular.utils import load_covertype_dataset\n",
    "\n",
    "data, cat_col_names, num_col_names, target_col = load_covertype_dataset()"
   ],
   "id": "71c5977be696e009",
   "outputs": [],
   "execution_count": 30
  },
  {
   "metadata": {
    "ExecuteTime": {
     "end_time": "2024-09-06T10:43:24.596524Z",
     "start_time": "2024-09-06T10:43:24.590948Z"
    }
   },
   "cell_type": "code",
   "source": "type(data),type(cat_col_names),type(num_col_names),type(target_col)",
   "id": "abefb6706d7a2081",
   "outputs": [
    {
     "data": {
      "text/plain": [
       "(pandas.core.frame.DataFrame, list, list, str)"
      ]
     },
     "execution_count": 36,
     "metadata": {},
     "output_type": "execute_result"
    }
   ],
   "execution_count": 36
  },
  {
   "metadata": {
    "ExecuteTime": {
     "end_time": "2024-09-06T10:43:56.966270Z",
     "start_time": "2024-09-06T10:43:56.682711Z"
    }
   },
   "cell_type": "code",
   "source": [
    "from sklearn.model_selection import train_test_split\n",
    "train, test = train_test_split(data, random_state=42, test_size=0.2)\n",
    "train, val = train_test_split(train, random_state=42, test_size=0.2)\n",
    "print(f\"Train Shape: {train.shape} | Val Shape: {val.shape} | Test Shape: {test.shape}\")"
   ],
   "id": "60a074fecdd40643",
   "outputs": [
    {
     "data": {
      "text/plain": [
       "Train Shape: \u001B[1m(\u001B[0m\u001B[1;36m371847\u001B[0m, \u001B[1;36m13\u001B[0m\u001B[1m)\u001B[0m | Val Shape: \u001B[1m(\u001B[0m\u001B[1;36m92962\u001B[0m, \u001B[1;36m13\u001B[0m\u001B[1m)\u001B[0m | Test Shape: \u001B[1m(\u001B[0m\u001B[1;36m116203\u001B[0m, \u001B[1;36m13\u001B[0m\u001B[1m)\u001B[0m\n"
      ],
      "text/html": [
       "<pre style=\"white-space:pre;overflow-x:auto;line-height:normal;font-family:Menlo,'DejaVu Sans Mono',consolas,'Courier New',monospace\">Train Shape: <span style=\"font-weight: bold\">(</span><span style=\"color: #008080; text-decoration-color: #008080; font-weight: bold\">371847</span>, <span style=\"color: #008080; text-decoration-color: #008080; font-weight: bold\">13</span><span style=\"font-weight: bold\">)</span> | Val Shape: <span style=\"font-weight: bold\">(</span><span style=\"color: #008080; text-decoration-color: #008080; font-weight: bold\">92962</span>, <span style=\"color: #008080; text-decoration-color: #008080; font-weight: bold\">13</span><span style=\"font-weight: bold\">)</span> | Test Shape: <span style=\"font-weight: bold\">(</span><span style=\"color: #008080; text-decoration-color: #008080; font-weight: bold\">116203</span>, <span style=\"color: #008080; text-decoration-color: #008080; font-weight: bold\">13</span><span style=\"font-weight: bold\">)</span>\n",
       "</pre>\n"
      ]
     },
     "metadata": {},
     "output_type": "display_data"
    }
   ],
   "execution_count": 37
  },
  {
   "metadata": {
    "ExecuteTime": {
     "end_time": "2024-09-06T10:44:29.283252Z",
     "start_time": "2024-09-06T10:44:29.280374Z"
    }
   },
   "cell_type": "code",
   "source": "",
   "id": "b9d1d17f1cbb43ae",
   "outputs": [
    {
     "data": {
      "text/plain": [
       "pandas.core.frame.DataFrame"
      ]
     },
     "execution_count": 39,
     "metadata": {},
     "output_type": "execute_result"
    }
   ],
   "execution_count": 39
  },
  {
   "metadata": {},
   "cell_type": "code",
   "outputs": [],
   "execution_count": null,
   "source": "",
   "id": "4766a63c4c02dbb8"
  }
 ],
 "metadata": {
  "kernelspec": {
   "display_name": "Python 3",
   "language": "python",
   "name": "python3"
  },
  "language_info": {
   "codemirror_mode": {
    "name": "ipython",
    "version": 2
   },
   "file_extension": ".py",
   "mimetype": "text/x-python",
   "name": "python",
   "nbconvert_exporter": "python",
   "pygments_lexer": "ipython2",
   "version": "2.7.6"
  }
 },
 "nbformat": 4,
 "nbformat_minor": 5
}
